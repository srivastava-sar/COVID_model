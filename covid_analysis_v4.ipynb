{
 "cells": [
  {
   "cell_type": "code",
   "execution_count": 1,
   "metadata": {},
   "outputs": [],
   "source": [
    "\"\"\"\n",
    "@author: Saransh Srivastava\n",
    "\n",
    "-Parameter estimation of SEIR differential equation models  using Covid- 19 data\n",
    "\n",
    "\"\"\"\n",
    "# Import libraries\n",
    "import pandas as pd\n"
   ]
  },
  {
   "cell_type": "code",
   "execution_count": 2,
   "metadata": {
    "scrolled": true
   },
   "outputs": [
    {
     "data": {
      "text/plain": [
       "7001      0.000\n",
       "7002      0.000\n",
       "7003      0.000\n",
       "7004      0.000\n",
       "7005      0.015\n",
       "7006      0.029\n",
       "7007      0.029\n",
       "7008      0.044\n",
       "7009      0.103\n",
       "7010      0.103\n",
       "7011      0.133\n",
       "7012      0.147\n",
       "7013      0.412\n",
       "7014      0.633\n",
       "7015      0.957\n",
       "7016      1.193\n",
       "7017      1.694\n",
       "7018      2.327\n",
       "7019      2.858\n",
       "7020      3.683\n",
       "7021      4.198\n",
       "7022      5.288\n",
       "7023      7.483\n",
       "7024     10.223\n",
       "7025     12.919\n",
       "7026     17.102\n",
       "7027     21.433\n",
       "7028     24.585\n",
       "7029     30.095\n",
       "7030     35.722\n",
       "         ...   \n",
       "7061    405.238\n",
       "7062    414.386\n",
       "7063    419.026\n",
       "7064    423.268\n",
       "7065    433.477\n",
       "7066    443.037\n",
       "7067    450.977\n",
       "7068    460.198\n",
       "7069    465.295\n",
       "7070    469.243\n",
       "7071    472.336\n",
       "7072    481.572\n",
       "7073    488.849\n",
       "7074    495.154\n",
       "7075    500.810\n",
       "7076    507.704\n",
       "7077    510.208\n",
       "7078    512.565\n",
       "7079    520.593\n",
       "7080    525.941\n",
       "7081    530.919\n",
       "7082    536.090\n",
       "7083    540.244\n",
       "7084    541.982\n",
       "7085    543.765\n",
       "7086    545.738\n",
       "7087    551.807\n",
       "7088    557.361\n",
       "7089    562.134\n",
       "7090    565.301\n",
       "Name: total_deaths_per_million, Length: 90, dtype: float64"
      ]
     },
     "execution_count": 2,
     "metadata": {},
     "output_type": "execute_result"
    }
   ],
   "source": [
    "#Import data\n",
    "URL_DATASET =r'https://covid.ourworldindata.org/data/owid-covid-data.csv'\n",
    "covnatdf = pd.read_csv(URL_DATASET)\n",
    "noOfDatapt = 90\n",
    "#covnatdf[covnatdf.location=='United Kingdom'].tail(noOfDatapt)\n",
    "covnatdf=covnatdf[covnatdf.iso_code==\"GBR\"] #USA,ESP,ITA,KOR,GBR\n",
    "data_death = covnatdf[\"total_deaths_per_million\"].tail(noOfDatapt)\n",
    "data_infection = covnatdf[\"total_cases_per_million\"].tail(noOfDatapt)\n",
    "Ppl = 1000000\n",
    "data_death"
   ]
  },
  {
   "cell_type": "markdown",
   "metadata": {},
   "source": [
    "## Model creation"
   ]
  },
  {
   "cell_type": "code",
   "execution_count": 3,
   "metadata": {},
   "outputs": [],
   "source": [
    "def deriv(y,t,N10,alpha,beta,c,lmbda,mu,p_d,p_grp,p_r,p_s,sigma):\n",
    "    S[0],S[1],E[0],E[1],I,R,D=y\n",
    "    dS1dt = (p_grp * p_s * (lmbda - mu)) - (beta * c * alpha * S[0] *(alpha * (E[0] + I) + E[1]))/Ppl                        \n",
    "    ds2dt = ((1-p_grp) * p_s * (lmbda - mu)) - (beta * c * S[1] *(alpha * (E[0] + I) + E[1]))/Ppl                        \n",
    "    de1dt = (p_grp * (1 - p_s) * (lmbda - mu)) + (beta * c * alpha * S[0] *(alpha * (E[0] + I) + E[1]))/Ppl + (N10 * E[1]) - (sigma * E[0])                       \n",
    "    de2dt = ((1-p_grp) * (1 - p_s) * (lmbda - mu)) + (beta * c * S[1] *(alpha * (E[0] + I) + E[1]))/Ppl - ((N10 + sigma) * E[1])\n",
    "    didt = (sigma *(E[0] + E[1])) - (p_r + p_d) * I \n",
    "    dddt = p_d * I\n",
    "    drdt = p_r * I\n",
    "    return dS1dt, ds2dt, de1dt,de2dt,didt,dddt,drdt\n"
   ]
  },
  {
   "cell_type": "code",
   "execution_count": 4,
   "metadata": {},
   "outputs": [
    {
     "name": "stdout",
     "output_type": "stream",
     "text": [
      "Name      Value      Min      Max   Stderr     Vary     Expr Brute_Step\n",
      "N10         0.5        0        1     None     True     None     None\n",
      "alpha       0.1        0        1     None     True     None     None\n",
      "beta        1.5        0        4     None     True     None     None\n",
      "c           1.1        0       20     None     True     None     None\n",
      "lmbda      2000        0    1e+06     None     True     None     None\n",
      "mu         1000        0    1e+06     None     True     None     None\n",
      "p_d      0.0001        0        1     None     True     None     None\n",
      "p_grp       0.6        0        1     None     True     None     None\n",
      "p_r      0.0002        0        1     None     True     None     None\n",
      "p_s         0.7        0        1     None     True     None     None\n",
      "sigma      0.14     0.14     0.25     None     True     None     None\n"
     ]
    }
   ],
   "source": [
    "from lmfit import Parameters\n",
    "\n",
    "S = [Ppl/2,Ppl/2]       #Group1 use preventive measures, group2 doesn't\n",
    "E = [0,0]\n",
    "I = 1                   #number of infected people.\n",
    "D = 0                   #number of death.\n",
    "R = 0                   #number of recovery\n",
    "initCond = (S[0],S[1],E[0],E[1],I,R,D)\n",
    "\n",
    "#Parameters\n",
    "pfit = Parameters()\n",
    "#Rate of people in group i. Either person takes precaution or not\n",
    "pfit.add(name='p_grp', value=0.6, min=0, max=1)\n",
    "#Rate of: people is normal.\n",
    "pfit.add(name='p_s', value=0.7,min=0, max=1)\n",
    "#Population inflow\n",
    "pfit.add(name='lmbda', value=2000,min=0, max=Ppl)\n",
    "# Population outflow.\n",
    "pfit.add(name='mu', value=1000,min=0, max=Ppl)\n",
    "#Average risk per infected contact (R_0)\n",
    "pfit.add(name='beta', value=1.5,min=0, max=4)\n",
    "#Average contacts per person per day (function of policies & time) (<1 means no spread of disease)\n",
    "pfit.add(name='c', value=1.1,min=0, max=20)\n",
    "#Incubation rate, at which infected people develops symptoms.\n",
    "pfit.add(name='sigma', value=0.14,min=0.14, max=0.25)\n",
    "#Per capita rate of migration of infected ones from group i to j.\n",
    "pfit.add(name='N10', value=0.5,min=0, max=1)\n",
    "#The rate of death.\n",
    "pfit.add(name='p_d', value=0.0001,min=0, max=1)\n",
    "#The rate of recovery.\n",
    "pfit.add(name='p_r', value=0.0002,min=0, max=1)\n",
    "#Descrease rate of indivisual catching virus\n",
    "pfit.add(name='alpha', value=0.1, min=0, max=1)\n",
    "\n",
    "pfit.pretty_print()\n"
   ]
  },
  {
   "cell_type": "code",
   "execution_count": 5,
   "metadata": {},
   "outputs": [],
   "source": [
    "def iModSol(t,N10,alpha,beta,c,lmbda,mu,p_d,p_grp,p_r,p_s,sigma,initCondn):\n",
    "    y0 = initCondn\n",
    "    ret = odeint(deriv, y0, t,args=(N10,alpha,beta,c,lmbda,mu,p_d,p_grp,p_r,p_s,sigma))\n",
    "    return ret.T\n",
    "\n",
    "def Model_fitter(t,N10,alpha,beta,c,lmbda,mu,p_d,p_grp,p_r,p_s,sigma):\n",
    "    ret = iModSol(t,N10,alpha,beta,c,lmbda,mu,p_d,p_grp,p_r,p_s,sigma,initCond)\n",
    "    return ret[5]\n",
    "\n",
    "def Model_pred(t,N10,alpha,beta,c,lmbda,mu,p_d,p_grp,p_r,p_s,sigma):\n",
    "    ret = iModSol(t,N10,alpha,beta,c,lmbda,mu,p_d,p_grp,p_r,p_s,sigma,initCond)\n",
    "    return ret"
   ]
  },
  {
   "cell_type": "code",
   "execution_count": 6,
   "metadata": {},
   "outputs": [],
   "source": [
    "import numpy as np\n",
    "from scipy.integrate import odeint\n",
    "\n",
    "t = np.linspace(0, noOfDatapt-1, noOfDatapt) # Grid of time points (in days)"
   ]
  },
  {
   "cell_type": "code",
   "execution_count": 16,
   "metadata": {},
   "outputs": [
    {
     "name": "stdout",
     "output_type": "stream",
     "text": [
      "[[Model]]\n",
      "    Model(Model_fitter)\n",
      "[[Fit Statistics]]\n",
      "    # fitting method   = leastsq\n",
      "    # function evals   = 277\n",
      "    # data points      = 90\n",
      "    # variables        = 11\n",
      "    chi-square         = 366.028590\n",
      "    reduced chi-square = 4.63327329\n",
      "    Akaike info crit   = 148.261160\n",
      "    Bayesian info crit = 175.759066\n",
      "##  Warning: uncertainties could not be estimated:\n",
      "    sigma:  at initial value\n",
      "    sigma:  at boundary\n",
      "[[Variables]]\n",
      "    p_grp:  0.34240017 (init = 0.6)\n",
      "    p_s:    0.99269944 (init = 0.7)\n",
      "    lmbda:  5022.68089 (init = 2000)\n",
      "    mu:     20.7729080 (init = 1000)\n",
      "    beta:   2.21562360 (init = 1.5)\n",
      "    c:      0.74636889 (init = 1.1)\n",
      "    sigma:  0.14000000 (init = 0.14)\n",
      "    N10:    0.48760696 (init = 0.5)\n",
      "    p_d:    7.4068e-05 (init = 0.0001)\n",
      "    p_r:    0.05797436 (init = 0.0002)\n",
      "    alpha:  0.00960860 (init = 0.1)\n"
     ]
    }
   ],
   "source": [
    "import lmfit\n",
    "from lmfit.lineshapes import gaussian, lorentzian\n",
    "from lmfit import Model\n",
    "\n",
    "\n",
    "fitted_model = Model(Model_fitter)\n",
    "params = fitted_model.make_params()\n",
    "params = pfit\n",
    "\n",
    "\n",
    "result = fitted_model.fit(data_death,params, t=t,method='leastsq')\n",
    "print(result.fit_report())\n",
    "\n"
   ]
  },
  {
   "cell_type": "code",
   "execution_count": 17,
   "metadata": {},
   "outputs": [],
   "source": [
    "# Making prediction based on fitted parameters\n",
    "fparams = result.params.valuesdict()\n",
    "\n",
    "\n",
    "fit_model = Model_pred(t,fparams['N10'],fparams['alpha'],\n",
    "                       fparams['beta'],fparams['c'],fparams['lmbda'],\n",
    "                       fparams['mu'],fparams['p_d'],fparams['p_grp'],\n",
    "                       fparams['p_r'],fparams['p_s'],fparams['sigma'])\n",
    "\n"
   ]
  },
  {
   "cell_type": "code",
   "execution_count": 18,
   "metadata": {},
   "outputs": [
    {
     "data": {
      "image/png": "[encoded data removed]",
      "text/plain": [
       "<Figure size 432x288 with 1 Axes>"
      ]
     },
     "metadata": {
      "needs_background": "light"
     },
     "output_type": "display_data"
    }
   ],
   "source": [
    "import matplotlib.pyplot as plt\n",
    "\n",
    "plt.plot(t, data_death, 'bo')\n",
    "plt.plot(t, result.init_fit, 'k--', label='initial fit')\n",
    "plt.plot(t, result.best_fit, 'r-', label='best fit')\n",
    "plt.legend(loc='best')\n",
    "plt.show()"
   ]
  },
  {
   "cell_type": "code",
   "execution_count": 19,
   "metadata": {},
   "outputs": [
    {
     "data": {
      "image/png": "[encoded data removed]",
      "text/plain": [
       "<Figure size 432x288 with 1 Axes>"
      ]
     },
     "metadata": {
      "needs_background": "light"
     },
     "output_type": "display_data"
    }
   ],
   "source": [
    "plt.plot(t, data_death, 'bo')\n",
    "plt.plot(t, fit_model[4], 'r-', label='best fit')\n",
    "plt.legend(loc='best')\n",
    "plt.show()"
   ]
  },
  {
   "cell_type": "code",
   "execution_count": null,
   "metadata": {},
   "outputs": [],
   "source": []
  }
 ],
 "metadata": {
  "kernelspec": {
   "display_name": "Python 3",
   "language": "python",
   "name": "python3"
  },
  "language_info": {
   "codemirror_mode": {
    "name": "ipython",
    "version": 3
   },
   "file_extension": ".py",
   "mimetype": "text/x-python",
   "name": "python",
   "nbconvert_exporter": "python",
   "pygments_lexer": "ipython3",
   "version": "3.6.8"
  }
 },
 "nbformat": 4,
 "nbformat_minor": 2
}
