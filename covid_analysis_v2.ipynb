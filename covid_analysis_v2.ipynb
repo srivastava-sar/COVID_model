{
 "cells": [
  {
   "cell_type": "markdown",
   "metadata": {},
   "source": [
    "# Covid model\n",
    "This model is build drawing inspiration from SEIR model"
   ]
  },
  {
   "cell_type": "code",
   "execution_count": 2,
   "metadata": {},
   "outputs": [],
   "source": [
    "\"\"\"\n",
    "\n",
    "@author: Saransh Srivastava\n",
    "\n",
    "-Parameter estimation of SEIR differential equation models  using Covid- 19 data\n",
    "\n",
    "\"\"\"\n",
    "import matplotlib.pyplot as plt\n",
    "import math\n",
    "import numpy as np\n",
    "import random\n",
    "import numpy as np"
   ]
  },
  {
   "cell_type": "markdown",
   "metadata": {},
   "source": [
    "## Parameter setting"
   ]
  },
  {
   "cell_type": "code",
   "execution_count": 3,
   "metadata": {},
   "outputs": [
    {
     "data": {
      "text/plain": [
       "(50000.5, 50000.5, 0, 0, 1, 0, 0)"
      ]
     },
     "execution_count": 3,
     "metadata": {},
     "output_type": "execute_result"
    }
   ],
   "source": [
    "days = 100\n",
    "Ppl = 100001            #entire population\n",
    "S = [Ppl/2,Ppl/2]       #Group1 use preventive measures, group2 doesn't\n",
    "E = [0,0]\n",
    "I = 1                   #number of infected people.\n",
    "D = 0                   #number of death.\n",
    "R = 0                   #number of recovery\n",
    "p_group = [0.6,0.4]     #Rate of people in group i. Either person takes precaution or not\n",
    "p_s = 0.7               #Rate of people is normal.\n",
    "lmbda = Ppl/4 + 100     #Population inflow\n",
    "mu = Ppl/4              # Population outflow.\n",
    "beta = 1.5              #Average risk per infected contact (R_0)\n",
    "c = 1.1                 #Average contacts per person per day (function of policies & time) (<1 means no spread of disease)\n",
    "sigma = 5               #Incubation rate, at which infected people develops symptoms.\n",
    "M01 = 0.5       #Per capita rate of migration of suspectible people from group i to j.\n",
    "M10 = 0.5\n",
    "N01 = 0.5       #Per capita rate of migration of infected ones from group i to j.\n",
    "N10 = 0.5\n",
    "p_d = 0.3               #The probability of death.\n",
    "p_r = 1- p_d            #The probability of recovery.\n",
    "alpha = 0\n",
    "\n",
    "\"\"\"\n",
    "Converting above variables into parameters for the linear equation\n",
    "\"\"\"\n",
    "\n",
    "initCond = (S[0],S[1],E[0],E[1],I,R,D)\n",
    "\n",
    "initCond"
   ]
  },
  {
   "cell_type": "markdown",
   "metadata": {},
   "source": [
    "## SEIR Model Creation"
   ]
  },
  {
   "cell_type": "code",
   "execution_count": 4,
   "metadata": {},
   "outputs": [],
   "source": [
    "def deriv(y,t,beta,c,p_grp,lmbda,mu,alpha,p_s,p_d,p_r):\n",
    "    S[0],S[1],E[0],E[1],I,R,D=y\n",
    "    dS1dt = (p_grp * p_s * (lmbda - mu)) - (beta * c * alpha * S[0] *(alpha * (E[0] + I) + E[1]))/Ppl + (M10 * S[1]) - (M01 * S[0])                       \n",
    "    ds2dt = ((1-p_grp) * p_s * (lmbda - mu)) - (beta * c * S[1] *(alpha * (E[0] + I) + E[1]))/Ppl + (M01 * S[0]) - (M10 * S[1])                       \n",
    "    de1dt = (p_grp * (1 - p_s) * (lmbda - mu)) + (beta * c * alpha * S[0] *(alpha * (E[0] + I) + E[1]))/Ppl + (N10 * E[1]) - ((N01 + sigma) * E[0])                       \n",
    "    de2dt = ((1-p_grp) * (1 - p_s) * (lmbda - mu)) + (beta * c * S[1] *(alpha * (E[0] + I) + E[1]))/Ppl + (N01 * E[0]) - ((N10 + sigma) * E[1])                       \n",
    "    didt = (sigma *(E[0] + E[1])) - (p_r + p_d) * I \n",
    "    dddt = p_d * I\n",
    "    drdt = p_r * I\n",
    "    return dS1dt, ds2dt, de1dt,de2dt,didt,dddt,drdt\n"
   ]
  },
  {
   "cell_type": "code",
   "execution_count": 5,
   "metadata": {},
   "outputs": [],
   "source": [
    "from scipy.integrate import odeint\n",
    "t = np.linspace(0, 49, 50) # Grid of time points (in days)"
   ]
  },
  {
   "cell_type": "markdown",
   "metadata": {},
   "source": [
    "## Data import"
   ]
  },
  {
   "cell_type": "code",
   "execution_count": 6,
   "metadata": {
    "scrolled": true
   },
   "outputs": [
    {
     "data": {
      "text/plain": [
       "4588        28\n",
       "4662        35\n",
       "4750        47\n",
       "4839        84\n",
       "4936       121\n",
       "5052       136\n",
       "5178       288\n",
       "5315       309\n",
       "5457       491\n",
       "5605       598\n",
       "5768       767\n",
       "5937      1002\n",
       "6110      1326\n",
       "6288      1720\n",
       "6471      2182\n",
       "6657      2696\n",
       "6848      3434\n",
       "7042      4089\n",
       "7237      4858\n",
       "7432      5690\n",
       "7627      6528\n",
       "7820      7340\n",
       "8017      8189\n",
       "8217      9053\n",
       "8418     10003\n",
       "8620     10935\n",
       "8821     11744\n",
       "9024     12418\n",
       "9227     13055\n",
       "9430     13798\n",
       "9634     14555\n",
       "9838     15238\n",
       "10043    15843\n",
       "10248    16353\n",
       "10453    16972\n",
       "10658    17489\n",
       "10863    18276\n",
       "11068    18893\n",
       "11273    19478\n",
       "11478    20043\n",
       "11683    20453\n",
       "11888    20852\n",
       "12093    21282\n",
       "12298    21717\n",
       "12503    22157\n",
       "12708    22524\n",
       "12913    22902\n",
       "13118    23190\n",
       "13324    23190\n",
       "13530    23822\n",
       "Name: cu_deaths, dtype: int64"
      ]
     },
     "execution_count": 6,
     "metadata": {},
     "output_type": "execute_result"
    }
   ],
   "source": [
    "import pandas as pd\n",
    "covnat = \"covnat.csv\"\n",
    "covnatdf = pd.read_csv(covnat)\n",
    "covnatdf\n",
    "covnatdf=covnatdf[covnatdf.cname==\"Spain\"]\n",
    "data = covnatdf[\"cu_deaths\"].tail(50)\n",
    "data"
   ]
  },
  {
   "cell_type": "markdown",
   "metadata": {},
   "source": [
    "## Curve Fitting"
   ]
  },
  {
   "cell_type": "code",
   "execution_count": 7,
   "metadata": {},
   "outputs": [],
   "source": [
    "from scipy.optimize import curve_fit\n",
    "\n",
    "def iModSol(t,beta,c,p_grp,lmbda,mu,alpha,p_s,p_d,p_r,initCondn):\n",
    "    y0 = initCondn\n",
    "    ret = odeint(deriv, y0, t,args=(beta,c,p_grp,lmbda,mu,alpha,p_s,p_d,p_r))\n",
    "    S1,S2,E1,E2,I,D,R = ret.T\n",
    "    return D\n",
    "\n",
    "def ModSol(t,beta,c,p_grp,lmbda,mu,alpha,p_s,p_d,p_r):\n",
    "    return iModSol(t,beta,c,p_grp,lmbda,mu,alpha,p_s,p_d,p_r,initCond)\n"
   ]
  },
  {
   "cell_type": "code",
   "execution_count": 8,
   "metadata": {
    "scrolled": true
   },
   "outputs": [
    {
     "data": {
      "text/plain": [
       "array([  0.        ,   2.64144785,   9.55263081,  18.24330306,\n",
       "        27.59127055,  37.18143316,  46.8610606 ,  56.57396706,\n",
       "        66.29948329,  76.03000569,  85.76273722,  95.49664896,\n",
       "       105.23136255, 114.96673886, 124.7027267 , 134.4393074 ,\n",
       "       144.17647413, 153.9142245 , 163.65255766, 173.39147341,\n",
       "       183.13097176, 192.87105275, 202.61171648, 212.35296309,\n",
       "       222.0947927 , 231.83720569, 241.58020193, 251.3237814 ,\n",
       "       261.0679447 , 270.81269159, 280.55802203, 290.30393623,\n",
       "       300.05043504, 309.7975176 , 319.54518423, 329.29343525,\n",
       "       339.04227065, 348.79169058, 358.54169521, 368.29228465,\n",
       "       378.04345899, 387.79521842, 397.5475631 , 407.30049317,\n",
       "       417.05400877, 426.80810989, 436.56279676, 446.3180695 ,\n",
       "       456.07392825, 465.83037314])"
      ]
     },
     "execution_count": 8,
     "metadata": {},
     "output_type": "execute_result"
    }
   ],
   "source": [
    "\n",
    "a = ModSol(t,beta,c,p_group[0],lmbda,mu,alpha,p_s,p_d,p_r)\n",
    "a"
   ]
  },
  {
   "cell_type": "code",
   "execution_count": 9,
   "metadata": {
    "scrolled": true
   },
   "outputs": [
    {
     "name": "stderr",
     "output_type": "stream",
     "text": [
      "/Users/saransh/anaconda3/lib/python3.6/site-packages/scipy/integrate/odepack.py:247: ODEintWarning: Excess work done on this call (perhaps wrong Dfun type). Run with full_output = 1 to get quantitative information.\n",
      "  warnings.warn(warning_msg, ODEintWarning)\n",
      "/Users/saransh/anaconda3/lib/python3.6/site-packages/scipy/integrate/odepack.py:247: ODEintWarning: Repeated convergence failures (perhaps bad Jacobian or tolerances). Run with full_output = 1 to get quantitative information.\n",
      "  warnings.warn(warning_msg, ODEintWarning)\n",
      "/Users/saransh/anaconda3/lib/python3.6/site-packages/scipy/optimize/minpack.py:787: OptimizeWarning: Covariance of the parameters could not be estimated\n",
      "  category=OptimizeWarning)\n"
     ]
    },
    {
     "data": {
      "text/plain": [
       "array([ 8.56946166e-01,  8.56946166e-01,  3.90412883e+02,  1.21194966e+02,\n",
       "        2.83244519e+02,  1.11239690e+00,  1.01795202e+00,  9.82967015e-01,\n",
       "       -1.83037918e-01])"
      ]
     },
     "execution_count": 9,
     "metadata": {},
     "output_type": "execute_result"
    }
   ],
   "source": [
    "\n",
    "popt,pcov=curve_fit(ModSol,t,data)\n",
    "\n",
    "beta_o = popt[0]\n",
    "c_o = popt[1]\n",
    "p_grp_o = popt[2]\n",
    "lmbda_o = popt[3]\n",
    "mu_o = popt[4]\n",
    "alpha_o = popt[5]\n",
    "p_s_o = popt[6]\n",
    "p_d_o = popt[7]\n",
    "p_r_o = popt[8]\n",
    "# M10_o = popt[9]\n",
    "# M01_o = popt[10]\n",
    "# N10_o = popt[11]\n",
    "# N01_o = popt[12]\n",
    "# sigma_o = popt[13]\n",
    "popt"
   ]
  },
  {
   "cell_type": "code",
   "execution_count": 10,
   "metadata": {},
   "outputs": [],
   "source": [
    "t2 = np.linspace(0, 99, 100) # Grid of time points (in days\n",
    "model_final = ModSol(t2,beta_o,c_o,p_grp_o,lmbda_o,mu_o,alpha_o,p_s_o,p_d_o,p_r_o)\n"
   ]
  },
  {
   "cell_type": "code",
   "execution_count": 11,
   "metadata": {},
   "outputs": [],
   "source": [
    "def PlotStyle(Axes,Title):\n",
    "    \n",
    "    Axes.spines['top'].set_visible(False)\n",
    "    Axes.spines['right'].set_visible(False)\n",
    "    Axes.spines['bottom'].set_visible(True)\n",
    "    Axes.spines['left'].set_visible(True)\n",
    "    Axes.xaxis.set_tick_params(labelsize=14)\n",
    "    Axes.yaxis.set_tick_params(labelsize=14)\n",
    "    Axes.set_title(Title)"
   ]
  },
  {
   "cell_type": "code",
   "execution_count": 12,
   "metadata": {},
   "outputs": [
    {
     "data": {
      "image/png": "[encoded data removed]",
      "text/plain": [
       "<Figure size 648x432 with 1 Axes>"
      ]
     },
     "metadata": {
      "needs_background": "light"
     },
     "output_type": "display_data"
    }
   ],
   "source": [
    "###\n",
    "#  Curve visualization \n",
    "###\n",
    "\n",
    "import matplotlib.patheffects as path_effects\n",
    "\n",
    "plt.figure(2,figsize=(9,6))\n",
    "\n",
    "(markers, stemlines, baseline) = plt.stem(t, data,bottom=-42,label='Data',basefmt=\" \")\n",
    "plt.setp(stemlines, linestyle=\"-\", color=\"red\", linewidth=0.5,alpha=0.5 )\n",
    "plt.setp(markers, color=\"red\",alpha=0.75 )\n",
    "SolutionLabel = r'I'\n",
    "\n",
    "plt.plot(t2,model_final,'b-',label=SolutionLabel,path_effects=[path_effects.SimpleLineShadow(alpha=0.2,rho=0.2),\n",
    "                       path_effects.Normal()])\n",
    "    \n",
    "plt.xlabel('Time',fontsize=16,fontweight='bold')\n",
    "plt.ylabel('Infections',fontsize=16,fontweight='bold')\n",
    "plt.legend(loc=0,fontsize=14)\n",
    "\n",
    "plt.ylim(0,40000)\n",
    "plt.xlim(0,100)\n",
    "\n",
    "\n",
    "ax=plt.gca()\n",
    "PlotStyle(ax,'')"
   ]
  },
  {
   "cell_type": "code",
   "execution_count": null,
   "metadata": {},
   "outputs": [],
   "source": []
  },
  {
   "cell_type": "code",
   "execution_count": null,
   "metadata": {},
   "outputs": [],
   "source": []
  }
 ],
 "metadata": {
  "kernelspec": {
   "display_name": "Python 3",
   "language": "python",
   "name": "python3"
  },
  "language_info": {
   "codemirror_mode": {
    "name": "ipython",
    "version": 3
   },
   "file_extension": ".py",
   "mimetype": "text/x-python",
   "name": "python",
   "nbconvert_exporter": "python",
   "pygments_lexer": "ipython3",
   "version": "3.6.8"
  }
 },
 "nbformat": 4,
 "nbformat_minor": 2
}
